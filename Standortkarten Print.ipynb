{
 "cells": [
  {
   "cell_type": "markdown",
   "metadata": {},
   "source": [
    "Standortkarten Print Skript"
   ]
  },
  {
   "cell_type": "code",
   "execution_count": 17,
   "metadata": {},
   "outputs": [],
   "source": [
    "import sys\n",
    "import os\n",
    "import psycopg2\n",
    "import configparser\n",
    "import requests\n",
    "import json\n",
    "import subprocess\n",
    "from requests.auth import HTTPBasicAuth"
   ]
  },
  {
   "cell_type": "code",
   "execution_count": 25,
   "metadata": {},
   "outputs": [],
   "source": [
    "def process_exists(process_name):\n",
    "    call = 'TASKLIST', '/FI', 'imagename eq %s' % process_name\n",
    "    # use buildin check_output right away\n",
    "    output = subprocess.check_output(call)\n",
    "    # check in last line for process name\n",
    "    last_line = output.strip().split('\\r\\n')[-1]\n",
    "    # because Fail message could be translated\n",
    "    return last_line.lower().startswith(process_name.lower())"
   ]
  },
  {
   "cell_type": "code",
   "execution_count": 11,
   "metadata": {},
   "outputs": [],
   "source": [
    "stdout = sys.stdout\n",
    "reload(sys)\n",
    "sys.setdefaultencoding(\"utf-8\")\n",
    "sys.stdout = stdout\n",
    "#disable proxy for localhost\n",
    "os.environ['NO_PROXY'] = '127.0.0.1'\n",
    "config=configparser.ConfigParser()"
   ]
  },
  {
   "cell_type": "code",
   "execution_count": 26,
   "metadata": {},
   "outputs": [],
   "source": [
    "try:\n",
    "    config.read(\"printconfig.ini\")\n",
    "except:\n",
    "    print \"exception while reading config file\""
   ]
  },
  {
   "cell_type": "code",
   "execution_count": 28,
   "metadata": {},
   "outputs": [
    {
     "name": "stdout",
     "output_type": "stream",
     "text": [
      "Datenbank ist nicht offen!\n"
     ]
    }
   ],
   "source": [
    "if not process_exists(\"postgres.exe\"):\n",
    "    print \"Datenbank ist nicht offen!\"\n",
    "    \n",
    "    #Datenbank öffnen\n",
    "    #ggf. erst mal Datenbank importieren\n",
    "    #https://stackoverflow.com/questions/15107714/wait-process-until-all-subprocess-finish\n",
    "    #am Ende natürlich DB schließen\n",
    "else:\n",
    "    print \"Datenbank offen!\""
   ]
  },
  {
   "cell_type": "code",
   "execution_count": 13,
   "metadata": {},
   "outputs": [
    {
     "name": "stdout",
     "output_type": "stream",
     "text": [
      "{u'bundesland': 1, u'branche': 1, u'updated': 0, u'queued': 1, u'dataset': u'_v2'}\n",
      "{u'bundesland': 1, u'branche': 4, u'updated': 0, u'queued': 1, u'dataset': u'_v2'}\n",
      "{u'bundesland': 1, u'branche': 2, u'updated': 0, u'queued': 1, u'dataset': u'_v2'}\n",
      "{u'bundesland': 1, u'branche': 3, u'updated': 0, u'queued': 1, u'dataset': u'_v2'}\n",
      "{u'bundesland': 1, u'branche': 5, u'updated': 0, u'queued': 1, u'dataset': u'_v2'}\n",
      "{u'bundesland': 1, u'branche': 6, u'updated': 0, u'queued': 1, u'dataset': u'_v2'}\n",
      "{u'bundesland': 2, u'branche': 6, u'updated': 0, u'queued': 1, u'dataset': u'_v2'}\n",
      "{u'bundesland': 1, u'branche': 7, u'updated': 0, u'queued': 1, u'dataset': u'_v2'}\n",
      "{u'bundesland': 1, u'branche': 8, u'updated': 0, u'queued': 1, u'dataset': u'_v2'}\n",
      "{u'bundesland': 1, u'branche': 9, u'updated': 0, u'queued': 1, u'dataset': u'_v2'}\n"
     ]
    }
   ],
   "source": [
    "r=requests.post(config.get(\"webservice\",\"url\"),\n",
    "                auth=HTTPBasicAuth(config.get(\"webservice\",\"username\"),config.get(\"webservice\",\"password\")),\n",
    "                data={\"command\":\"fetchAllPrintingQueue\"},\n",
    "               )\n",
    "if r.status_code == 200:\n",
    "    queue=json.loads(r.text)\n",
    "    for job in queue:\n",
    "        print job\n",
    "        #start db and wait some seconds\n",
    "        \n",
    "        #import mapnik\n",
    "        sys.path.append(config.get(\"mapnik\",\"pythonPath\")) \n",
    "        import mapnik\n",
    "        \n",
    "else:\n",
    "    print \"konnte Printqueue nicht holen\",r.status_code,r.text\n"
   ]
  },
  {
   "cell_type": "code",
   "execution_count": null,
   "metadata": {},
   "outputs": [],
   "source": []
  }
 ],
 "metadata": {
  "kernelspec": {
   "display_name": "Python 2",
   "language": "python",
   "name": "python2"
  },
  "language_info": {
   "codemirror_mode": {
    "name": "ipython",
    "version": 2
   },
   "file_extension": ".py",
   "mimetype": "text/x-python",
   "name": "python",
   "nbconvert_exporter": "python",
   "pygments_lexer": "ipython2",
   "version": "2.7.15"
  }
 },
 "nbformat": 4,
 "nbformat_minor": 2
}
