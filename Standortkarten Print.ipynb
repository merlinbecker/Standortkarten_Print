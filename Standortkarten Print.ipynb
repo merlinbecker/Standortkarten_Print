{
 "cells": [
  {
   "cell_type": "markdown",
   "metadata": {},
   "source": [
    "Standortkarten Print Skript"
   ]
  },
  {
   "cell_type": "code",
   "execution_count": 1,
   "metadata": {},
   "outputs": [],
   "source": [
    "import sys\n",
    "import os\n",
    "import psycopg2\n",
    "import time\n",
    "import configparser\n",
    "import requests\n",
    "import json\n",
    "import subprocess\n",
    "from requests.auth import HTTPBasicAuth\n",
    "import urllib2\n",
    "from ipywidgets import FloatProgress\n",
    "from IPython.display import display"
   ]
  },
  {
   "cell_type": "code",
   "execution_count": 2,
   "metadata": {},
   "outputs": [],
   "source": [
    "def process_exists(process_name):\n",
    "    call = 'TASKLIST', '/FI', 'imagename eq %s' % process_name\n",
    "    output = subprocess.check_output(call)\n",
    "    last_line = output.strip().split('\\r\\n')[-1]\n",
    "    return last_line.lower().startswith(process_name.lower())"
   ]
  },
  {
   "cell_type": "markdown",
   "metadata": {},
   "source": [
    "DatenbankServerFunktionen\n",
    "@todo: Auslagern in eine Klasse"
   ]
  },
  {
   "cell_type": "code",
   "execution_count": 3,
   "metadata": {},
   "outputs": [],
   "source": [
    "def openDataBaseServer(config):\n",
    "    if not process_exists(\"postgres.exe\"):\n",
    "        print \"Datenbank ist nicht offen!\"\n",
    "        processcall=config.get(\"postgres\",\"bin_dir\")+\"/bin/postgres.exe \"\n",
    "        processcall+=\"-D \"+config.get(\"postgres\",\"db_dir\")+\" \"\n",
    "        processcall+=\"-p \"+config.get(\"postgres\",\"port\")\n",
    "        \n",
    "        subprocess.Popen(processcall,shell=True)\n",
    "        time.sleep(10)\n",
    "        #@todo check if really open!\n",
    "        print(\"Datenbank offen!\")"
   ]
  },
  {
   "cell_type": "code",
   "execution_count": 4,
   "metadata": {},
   "outputs": [],
   "source": [
    "def killDataBaseServer():\n",
    "    p1=subprocess.Popen(\"TASKKILL /IM postgres.exe > NUL 2>&1\",shell=True)\n",
    "    p1.wait()\n",
    "    print \"Datenbankserver beendet\""
   ]
  },
  {
   "cell_type": "code",
   "execution_count": 5,
   "metadata": {},
   "outputs": [],
   "source": [
    "def initDataBaseServer(config):\n",
    "    if os.path.isdir(config.get(\"postgres\",\"db_dir\"))==False:\n",
    "        print \"Datenbank ist nicht eingerichtet, richte ein!\"\n",
    "        processcall=config.get(\"postgres\",\"bin_dir\")\n",
    "        processcall+=\"/bin/initdb --locale=German_Germany.1252 --encoding=UTF8 \"\n",
    "        processcall+=config.get(\"postgres\",\"db_dir\")\n",
    "        p1 = subprocess.Popen(processcall,shell=True)\n",
    "        p1.wait()\n",
    "        datenbank=openDataBaseServer(config)\n",
    "        processcall=config.get(\"postgres\",\"bin_dir\")+\"/bin/createuser.exe -s -d -w \"+config.get(\"postgres\",\"user\")\n",
    "        p1=subprocess.Popen(processcall,shell=True)\n",
    "        p1.wait()\n",
    "        print \"Nutzer eingerichtet\""
   ]
  },
  {
   "cell_type": "code",
   "execution_count": 6,
   "metadata": {},
   "outputs": [],
   "source": [
    "def download_file(url,dest):\n",
    "    urllib2.install_opener(\n",
    "            urllib2.build_opener(\n",
    "                urllib2.ProxyHandler({'https': config.get(\"general\",\"proxy_https\")})\n",
    "            )\n",
    "        )\n",
    "        \n",
    "    file_name = \"tempdata/\"+osm_url.split('/')[-1]\n",
    "    u = urllib2.urlopen(osm_url)\n",
    "    f = open(file_name, 'wb')\n",
    "    meta = u.info()\n",
    "    file_size = int(meta.getheaders(\"Content-Length\")[0])\n",
    "    print \"Downloading: %s Bytes: %s\" % (file_name, file_size)\n",
    "\n",
    "    file_size_dl = 0\n",
    "    block_sz = 8192\n",
    "\n",
    "    progressbar = FloatProgress(min=0, max=100) # instantiate the bar\n",
    "    display(progressbar) # display the bar\n",
    "\n",
    "    while True:\n",
    "        buffer = u.read(block_sz)\n",
    "        if not buffer:\n",
    "            break\n",
    "        file_size_dl += len(buffer)\n",
    "        f.write(buffer)\n",
    "        progressbar.value=file_size_dl * 100. / file_size\n",
    "    f.close()"
   ]
  },
  {
   "cell_type": "code",
   "execution_count": 9,
   "metadata": {},
   "outputs": [],
   "source": [
    "stdout = sys.stdout\n",
    "reload(sys)\n",
    "sys.setdefaultencoding(\"utf-8\")\n",
    "sys.stdout = stdout\n",
    "#disable proxy for localhost\n",
    "os.environ['NO_PROXY'] = '127.0.0.1'\n",
    "config=configparser.ConfigParser()"
   ]
  },
  {
   "cell_type": "code",
   "execution_count": 10,
   "metadata": {},
   "outputs": [],
   "source": [
    "try:\n",
    "    config.read(\"printconfig.ini\")\n",
    "except:\n",
    "    print \"exception while reading config file\""
   ]
  },
  {
   "cell_type": "code",
   "execution_count": 21,
   "metadata": {},
   "outputs": [
    {
     "name": "stdout",
     "output_type": "stream",
     "text": [
      "https://download.geofabrik.de/europe/germany/baden-wuerttemberg-latest.osm.pbf\n",
      "Datenbank existiert\n"
     ]
    }
   ],
   "source": [
    "initDataBaseServer(config)\n",
    "openDataBaseServer(config)\n",
    "\n",
    "#beispielhaft für Baden_Württemberg\n",
    "#DB ist OSM_BW_1\n",
    "print config.get(\"1\",\"osm_url\")\n",
    "osm_url=config.get(\"1\",\"osm_url\")\n",
    "databasename=\"osm_bw_1\"\n",
    "try:\n",
    "    conn = psycopg2.connect(\"dbname='\"+databasename+\"' user='\"\n",
    "                            +config.get(\"postgres\",\"user\")\n",
    "                            +\"' host='\"+config.get(\"postgres\",\"host\")\n",
    "                            +\"' password='\"+config.get(\"postgres\",\"password\")+\"'\")\n",
    "    print \"Datenbank existiert\"\n",
    "except:\n",
    "    print \"Datenbank existiert nicht!\"\n",
    "    #download osm data if not existent\n",
    "    if not os.path.exists(\"tempdata\"):\n",
    "        os.makedirs(\"tempdata\")\n",
    "    if not os.path.isfile(\"tempdata/\"+os.path.basename(osm_url)):\n",
    "        print \"downloading OSM file\"\n",
    "        download_file(osm_url,\"tempdata/\"+os.path.basename(osm_url))\n",
    "        print \"Download abgeschlossen\"\n",
    "    #create database\n",
    "    processcall=config.get(\"postgres\",\"bin_dir\")\n",
    "    processcall+=\"/bin/psql -w -U \"+config.get(\"postgres\",\"user\")\n",
    "    processcall+=\" -p \"+config.get(\"postgres\",\"port\")\n",
    "    processcall+=\" -d postgres -c \\\"CREATE DATABASE \"+databasename+\"\\\"\"\n",
    "    \n",
    "    print processcall\n",
    "    p1 = subprocess.Popen(processcall,shell=True)\n",
    "    p1.wait()\n",
    "\n",
    "    processcall=config.get(\"postgres\",\"bin_dir\")\n",
    "    processcall+=\"/bin/psql -w -U \"+config.get(\"postgres\",\"user\")\n",
    "    processcall+=\" -d \\\"\"+databasename+\"\\\"\"\n",
    "    processcall+=\" -c \\\"CREATE EXTENSION postgis;\\\"\"\n",
    "    p1 = subprocess.Popen(processcall,shell=True)\n",
    "    p1.wait()\n",
    "\n",
    "    processcall=config.get(\"postgres\",\"bin_dir\")\n",
    "    processcall+=\"/bin/psql -w -U \"+config.get(\"postgres\",\"user\")\n",
    "    processcall+=\" -d \\\"\"+databasename+\"\\\"\"\n",
    "    processcall+=\" -c \\\"CREATE EXTENSION postgis_sfcgal;\\\"\"\n",
    "    p1 = subprocess.Popen(processcall,shell=True)\n",
    "    p1.wait()\n",
    "\n",
    "    processcall=config.get(\"postgres\",\"bin_dir\")\n",
    "    processcall+=\"/bin/psql -w -U \"+config.get(\"postgres\",\"user\")\n",
    "    processcall+=\" -d \\\"\"+databasename+\"\\\"\"\n",
    "    processcall+=\" -c \\\"CREATE EXTENSION postgis_topology;\\\"\"\n",
    "    p1 = subprocess.Popen(processcall,shell=True)\n",
    "    p1.wait()\n",
    "\n",
    "    processcall=config.get(\"postgres\",\"bin_dir\")\n",
    "    processcall+=\"/bin/psql -w -U \"+config.get(\"postgres\",\"user\")\n",
    "    processcall+=\" -d \\\"\"+databasename+\"\\\"\"\n",
    "    processcall+=\" -c \\\"CREATE EXTENSION hstore;\\\"\"\n",
    "    p1 = subprocess.Popen(processcall,shell=True)\n",
    "    p1.wait()\n",
    "    \n",
    "    #import data\n",
    "    processcall=config.get(\"osm2pgsql\",\"bin_path\")\n",
    "    processcall+=\" -d \"+databasename\n",
    "    processcall+=\" -S \"+config.get(\"osm2pgsql\",\"schema\")\n",
    "    processcall+=\" -k --hstore-match-only -r pbf -s\"\n",
    "    processcall+=\" -H \"+config.get(\"postgres\",\"host\")\n",
    "    processcall+=\" -p \"+config.get(\"postgres\",\"port\")\n",
    "    processcall+=\" -U \"+config.get(\"postgres\",\"user\")\n",
    "    processcall+=\" -C \"+config.get(\"osm2pgsql\",\"cachesize\")\n",
    "    processcall+\" -c  \\\"\"+os.path.abspath(\"tempdata/\"+os.path.basename(osm_url))+\"\\\"\"\n",
    "    \n",
    "    print processcall"
   ]
  },
  {
   "cell_type": "code",
   "execution_count": null,
   "metadata": {},
   "outputs": [],
   "source": [
    "r=requests.post(config.get(\"webservice\",\"url\"),\n",
    "                auth=HTTPBasicAuth(config.get(\"webservice\",\"username\"),config.get(\"webservice\",\"password\")),\n",
    "                data={\"command\":\"fetchAllPrintingQueue\"},\n",
    "               )\n",
    "if r.status_code == 200:\n",
    "    queue=json.loads(r.text)\n",
    "    for job in queue:\n",
    "        print job\n",
    "        #start db and wait some seconds\n",
    "        \n",
    "        #import mapnik\n",
    "        sys.path.append(config.get(\"mapnik\",\"pythonPath\")) \n",
    "        import mapnik\n",
    "        \n",
    "else:\n",
    "    print \"konnte Printqueue nicht holen\",r.status_code,r.text\n"
   ]
  },
  {
   "cell_type": "code",
   "execution_count": null,
   "metadata": {},
   "outputs": [],
   "source": []
  }
 ],
 "metadata": {
  "kernelspec": {
   "display_name": "Python 2",
   "language": "python",
   "name": "python2"
  },
  "language_info": {
   "codemirror_mode": {
    "name": "ipython",
    "version": 2
   },
   "file_extension": ".py",
   "mimetype": "text/x-python",
   "name": "python",
   "nbconvert_exporter": "python",
   "pygments_lexer": "ipython2",
   "version": "2.7.15"
  }
 },
 "nbformat": 4,
 "nbformat_minor": 2
}
